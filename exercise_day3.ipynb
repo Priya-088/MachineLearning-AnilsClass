{
 "cells": [
  {
   "cell_type": "code",
   "execution_count": 2,
   "metadata": {},
   "outputs": [
    {
     "name": "stdout",
     "output_type": "stream",
     "text": [
      "sumation= 24\n"
     ]
    }
   ],
   "source": [
    "#program to sum all elements in a list\n",
    "sumation=0\n",
    "d=[10,5,2,3,4]\n",
    "for i in d:\n",
    "    sumation=i+sumation\n",
    "print('sumation=',sumation)"
   ]
  },
  {
   "cell_type": "code",
   "execution_count": 4,
   "metadata": {},
   "outputs": [
    {
     "name": "stdout",
     "output_type": "stream",
     "text": [
      "mul_result= 1200\n"
     ]
    }
   ],
   "source": [
    "#program to mul all elements in list\n",
    "mul_result=1\n",
    "d=[10,5,2,3,4]\n",
    "for i in d:\n",
    "    mul_result=i*mul_result\n",
    "print('mul_result=',mul_result)\n"
   ]
  },
  {
   "cell_type": "code",
   "execution_count": 1,
   "metadata": {},
   "outputs": [
    {
     "name": "stdout",
     "output_type": "stream",
     "text": [
      "22\n"
     ]
    }
   ],
   "source": [
    "#program to find largest number in a list\n",
    "\n",
    "d=[10,5,2,3,4,22]\n",
    "large=d[0]\n",
    "for i in d:\n",
    "    if i>=large:\n",
    "        large=i\n",
    "print(large)\n",
    "\n",
    "    "
   ]
  },
  {
   "cell_type": "code",
   "execution_count": 24,
   "metadata": {},
   "outputs": [
    {
     "name": "stdout",
     "output_type": "stream",
     "text": [
      "2\n"
     ]
    }
   ],
   "source": [
    "#program to print smallest of list\n",
    "d=[10,5,2,3,4]\n",
    "small=d[0]\n",
    "for i in d:\n",
    "    if i<=small:\n",
    "        small=i\n",
    "print(small)"
   ]
  },
  {
   "cell_type": "code",
   "execution_count": 2,
   "metadata": {},
   "outputs": [
    {
     "name": "stdout",
     "output_type": "stream",
     "text": [
      "2\n"
     ]
    }
   ],
   "source": [
    "#5 prog to count the number of strings where the string len is 2 or more and the first and last are same from a \n",
    "#given list of strings\n",
    "x=['anc','xrew','pkpkp','ayayeya']\n",
    "counter=0\n",
    "for i in x:\n",
    "    if (len(i)>=2) and (i[0]==i[-1]):\n",
    "        counter = counter +1  \n",
    "        \n",
    "print(counter)\n",
    "    \n",
    "\n"
   ]
  },
  {
   "cell_type": "code",
   "execution_count": 28,
   "metadata": {},
   "outputs": [],
   "source": [
    "#6-program to get a list, sorted in incresing order by the last element in each tuple from a given list of non-empty tuples\n",
    "L1=[(2,5),(1,2),(4,4),(2,3),(2,1)]\n"
   ]
  },
  {
   "cell_type": "code",
   "execution_count": 52,
   "metadata": {},
   "outputs": [
    {
     "data": {
      "text/plain": [
       "[10, 5, 2, 3, 4]"
      ]
     },
     "execution_count": 52,
     "metadata": {},
     "output_type": "execute_result"
    }
   ],
   "source": [
    "#to remove duplicates from list \n",
    "d=[10,10,5,2,3,4,5,2,5,3]\n",
    "k=[]\n",
    "for i in d:\n",
    "    if i in k:\n",
    "        k = k\n",
    "    else:\n",
    "        k.append(i)  #k=[10,5]\n",
    "        \n",
    "k\n",
    "        \n",
    "\n",
    "        \n"
   ]
  },
  {
   "cell_type": "code",
   "execution_count": 54,
   "metadata": {},
   "outputs": [
    {
     "name": "stdout",
     "output_type": "stream",
     "text": [
      "not empty\n"
     ]
    }
   ],
   "source": [
    "#to check a list is empty or not\n",
    "d=[10,10,5,2,3,4,5,2,5,3]\n",
    "if len(d)==0:\n",
    "    print('empty')\n",
    "else:\n",
    "    print('not empty')\n"
   ]
  },
  {
   "cell_type": "code",
   "execution_count": 2,
   "metadata": {},
   "outputs": [
    {
     "name": "stdout",
     "output_type": "stream",
     "text": [
      "[10, 10, 5, 2, 3, 4, 5, 2, 5, 3]\n"
     ]
    }
   ],
   "source": [
    "# program to clone or copy a list\n",
    "d=[10,10,5,2,3,4,5,2,5,3]\n",
    "e=[]\n",
    "for i in d:\n",
    "    e.append(i)\n",
    "print(e)"
   ]
  },
  {
   "cell_type": "code",
   "execution_count": 8,
   "metadata": {},
   "outputs": [
    {
     "data": {
      "text/plain": [
       "['xrew', 'pkpkp', 'ayayeya', 'as456']"
      ]
     },
     "execution_count": 8,
     "metadata": {},
     "output_type": "execute_result"
    }
   ],
   "source": [
    "#to find the list of words that are longer that len 3 from a given list of words\n",
    "x=['anc','xrew','pkpkp','ayayeya','as456','a','dc']\n",
    "z=[]\n",
    "for i in x:\n",
    "    if len(i)>3:\n",
    "        z.append(i)\n",
    "        \n",
    "z\n",
    "    \n",
    "    "
   ]
  },
  {
   "cell_type": "code",
   "execution_count": 17,
   "metadata": {},
   "outputs": [
    {
     "name": "stdout",
     "output_type": "stream",
     "text": [
      "true\n",
      "true\n",
      "true\n",
      "-------------------\n",
      "true\n",
      "true\n",
      "true\n"
     ]
    }
   ],
   "source": [
    "#program for python function that takes two lists and returs true if they have atleast one common element\n",
    "x=['anc','xrew','pkpkp','ayayeya','as456','a','dc']\n",
    "d=[10,10,5,2,'anc','xrew','pkpkp']\n",
    "for i in x:\n",
    "    for j in d:\n",
    "        if i==j:\n",
    "            print('true')\n",
    "#or\n",
    "print('-------------------')\n",
    "for i in x:\n",
    "    if i in d:\n",
    "        print('true')\n"
   ]
  },
  {
   "cell_type": "code",
   "execution_count": 30,
   "metadata": {},
   "outputs": [
    {
     "ename": "SyntaxError",
     "evalue": "invalid syntax (<ipython-input-30-977b71f1eaf9>, line 5)",
     "output_type": "error",
     "traceback": [
      "\u001b[1;36m  File \u001b[1;32m\"<ipython-input-30-977b71f1eaf9>\"\u001b[1;36m, line \u001b[1;32m5\u001b[0m\n\u001b[1;33m    if(i=k(n))\u001b[0m\n\u001b[1;37m        ^\u001b[0m\n\u001b[1;31mSyntaxError\u001b[0m\u001b[1;31m:\u001b[0m invalid syntax\n"
     ]
    }
   ],
   "source": [
    "#\n",
    "k=['red','green','white','black','pink','yellow']\n",
    "n=[0,4,5]\n",
    "for i =(0:len(k)-1:\n",
    "    if(i=k[n])\n",
    "    #if (i=k[0] or i=k[4] or i=k[5]):\n",
    "        k.remove(i)\n",
    "        \n",
    "\n"
   ]
  },
  {
   "cell_type": "code",
   "execution_count": 36,
   "metadata": {},
   "outputs": [
    {
     "data": {
      "text/plain": [
       "['green', 'white', 'black']"
      ]
     },
     "execution_count": 36,
     "metadata": {},
     "output_type": "execute_result"
    }
   ],
   "source": [
    "#13-\n",
    "sam_list=['red','green','white','black','pink','yellow']\n",
    "rem_ind=[0,4,5]\n",
    "ind_sam_list=list(range(0,len(sam_list)))\n",
    "output=[]\n",
    "for i in ind_sam_list:\n",
    "    if i in rem_ind:\n",
    "        sam_list=sam_list\n",
    "    else:\n",
    "        output.append(sam_list[i])\n",
    "output\n",
    "    "
   ]
  },
  {
   "cell_type": "code",
   "execution_count": 38,
   "metadata": {},
   "outputs": [
    {
     "data": {
      "text/plain": [
       "['red', 'white', 'pink', 'voilet']"
      ]
     },
     "execution_count": 38,
     "metadata": {},
     "output_type": "execute_result"
    }
   ],
   "source": [
    "#14-to print the elements removing the even elements\n",
    "sam_list=['red','green','white','black','pink','yellow','voilet']\n",
    "out_put=[]\n",
    "ind_sam_list=list(range(0,len(sam_list)))\n",
    "for i in ind_sam_list:\n",
    "    if i%2==0:\n",
    "         out_put.append(sam_list[i])\n",
    "    else:\n",
    "        sam_list=sam_list\n",
    "        \n",
    "out_put\n",
    "        \n",
    "\n"
   ]
  },
  {
   "cell_type": "code",
   "execution_count": 39,
   "metadata": {},
   "outputs": [
    {
     "data": {
      "text/plain": [
       "['voilet', 'yellow', 'pink', 'black', 'white', 'green', 'red']"
      ]
     },
     "execution_count": 39,
     "metadata": {},
     "output_type": "execute_result"
    }
   ],
   "source": [
    "#15-to shuffel and print a specified list\n",
    "h=['red','green','white','black','pink','yellow','voilet']\n",
    "h[-1::-1]"
   ]
  },
  {
   "cell_type": "code",
   "execution_count": 46,
   "metadata": {},
   "outputs": [
    {
     "name": "stdout",
     "output_type": "stream",
     "text": [
      "[11, 10, 9, 8, 5, 4, 3, 2, 1]\n"
     ]
    },
    {
     "data": {
      "text/plain": [
       "9"
      ]
     },
     "execution_count": 46,
     "metadata": {},
     "output_type": "execute_result"
    }
   ],
   "source": [
    "#sorting a list and to find third largest number\n",
    "d=[10,1,5,2,3,4,8,9,11]\n",
    "d.sort(reverse=True)\n",
    "print(d)\n",
    "d[2]\n"
   ]
  },
  {
   "cell_type": "code",
   "execution_count": 52,
   "metadata": {},
   "outputs": [
    {
     "name": "stdout",
     "output_type": "stream",
     "text": [
      "['int', 'float', 'str', 'clas', 'output']\n"
     ]
    },
    {
     "data": {
      "text/plain": [
       "[10, 5.32, 'priya', '4b', 'ime']"
      ]
     },
     "execution_count": 52,
     "metadata": {},
     "output_type": "execute_result"
    }
   ],
   "source": [
    "#to print keys and values of dict as two seperate lists\n",
    "z={'int':10,'float':5.32, 'str':'priya','clas':'4b','output':'ime'}\n",
    "x=[]\n",
    "y=[]\n",
    "for key,val in z.items():  #.teams is used to get both keys and values, if we use (for i in z) then it takes only keys as i \n",
    "    x.append(key)\n",
    "    y.append(val)\n",
    "print(x)\n",
    "y"
   ]
  },
  {
   "cell_type": "code",
   "execution_count": 53,
   "metadata": {},
   "outputs": [
    {
     "data": {
      "text/plain": [
       "{0: 10, 1: 20, 2: 30}"
      ]
     },
     "execution_count": 53,
     "metadata": {},
     "output_type": "execute_result"
    }
   ],
   "source": [
    "#dictionaries practise\n",
    "# to add a key to dict\n",
    "d1={0:10,1:20}\n",
    "d2={2:30}\n",
    "d1.update(d2)\n",
    "d1\n",
    "#or  d1[20]=30"
   ]
  },
  {
   "cell_type": "code",
   "execution_count": 55,
   "metadata": {},
   "outputs": [
    {
     "data": {
      "text/plain": [
       "{1: 10, 2: 20, 3: 30, 4: 40, 5: 50}"
      ]
     },
     "execution_count": 55,
     "metadata": {},
     "output_type": "execute_result"
    }
   ],
   "source": [
    "# concatinating 3 dicts\n",
    "s1={1:10,2:20}\n",
    "s2={3:30,4:40}\n",
    "s3={5:50}\n",
    "s4={}\n",
    "s1.update(s2)\n",
    "s1.update(s3)\n",
    "s1"
   ]
  },
  {
   "cell_type": "code",
   "execution_count": 61,
   "metadata": {},
   "outputs": [
    {
     "name": "stdout",
     "output_type": "stream",
     "text": [
      "key exists\n"
     ]
    }
   ],
   "source": [
    "#to ckeck given key is alredy present in the list or not \n",
    "z={'int':10,'float':5.32, 'str':'priya','clas':'4b','output':'ime'}\n",
    "x='str'\n",
    "if(x in list(z.keys())):\n",
    "    print('key exists')\n",
    "else:\n",
    "    print('key not exists')"
   ]
  },
  {
   "cell_type": "code",
   "execution_count": 65,
   "metadata": {},
   "outputs": [
    {
     "data": {
      "text/plain": [
       "{'int': 10, 'float': 5.32, 'str': 'priya', 'clas': '4b', 'output': 'ime'}"
      ]
     },
     "execution_count": 65,
     "metadata": {},
     "output_type": "execute_result"
    }
   ],
   "source": [
    "#to perform append operation using for loop\n",
    "z={'int':10,'float':5.32, 'str':'priya','clas':'4b','output':'ime'}\n",
    "c={}\n",
    "for i,k in z.items():\n",
    "    c.update({i:k})\n",
    "c"
   ]
  },
  {
   "cell_type": "code",
   "execution_count": 66,
   "metadata": {},
   "outputs": [
    {
     "data": {
      "text/plain": [
       "{1: 1, 2: 4, 3: 9, 4: 16}"
      ]
     },
     "execution_count": 66,
     "metadata": {},
     "output_type": "execute_result"
    }
   ],
   "source": [
    "#to creat a dict with values in list, keys should be like num:square of the num\n",
    "k=[1,2,3,4]\n",
    "d={}\n",
    "for i in k:\n",
    "    sq=i*i\n",
    "    d.update({i:sq})\n",
    "d"
   ]
  },
  {
   "cell_type": "code",
   "execution_count": 70,
   "metadata": {},
   "outputs": [
    {
     "name": "stdout",
     "output_type": "stream",
     "text": [
      "{1: 1, 2: 4, 3: 9, 4: 16}\n",
      "10\n",
      "30\n"
     ]
    },
    {
     "data": {
      "text/plain": [
       "40"
      ]
     },
     "execution_count": 70,
     "metadata": {},
     "output_type": "execute_result"
    }
   ],
   "source": [
    "#to find the sum of all keys and values\n",
    "k=[1,2,3,4]\n",
    "d={}\n",
    "for i in k:\n",
    "    sq=i*i\n",
    "    d.update({i:sq})\n",
    "print(d)\n",
    "s=0\n",
    "for j in d.keys():\n",
    "    s=s+j\n",
    "print(s)\n",
    "p=0\n",
    "for h in d.values():\n",
    "    p=p+h\n",
    "print(p)\n",
    "p+s"
   ]
  },
  {
   "cell_type": "code",
   "execution_count": 71,
   "metadata": {},
   "outputs": [
    {
     "name": "stdout",
     "output_type": "stream",
     "text": [
      "{1: 1, 2: 4, 3: 9, 4: 16}\n"
     ]
    },
    {
     "data": {
      "text/plain": [
       "40"
      ]
     },
     "execution_count": 71,
     "metadata": {},
     "output_type": "execute_result"
    }
   ],
   "source": [
    "#to find the sum of all keys and values-method2\n",
    "k=[1,2,3,4]\n",
    "d={}\n",
    "for i in k:\n",
    "    sq=i*i\n",
    "    d.update({i:sq})\n",
    "print(d)\n",
    "s,p=0,0\n",
    "for l,m in d.items():\n",
    "    s=s+l\n",
    "    p=p+m\n",
    "p+s\n",
    "    "
   ]
  },
  {
   "cell_type": "code",
   "execution_count": 79,
   "metadata": {},
   "outputs": [
    {
     "name": "stdout",
     "output_type": "stream",
     "text": [
      "{0, 1, 2, 3, 5}\n"
     ]
    },
    {
     "data": {
      "text/plain": [
       "set"
      ]
     },
     "execution_count": 79,
     "metadata": {},
     "output_type": "execute_result"
    }
   ],
   "source": [
    "#list are ordered but sets are not ordred\n",
    "#set-data type, unordered, {} uses, elements are same like list but unique \n",
    "x={1,2,3,5,2,0}\n",
    "print(x)  #output will be ascending order\n",
    "type(x) "
   ]
  },
  {
   "cell_type": "code",
   "execution_count": 77,
   "metadata": {},
   "outputs": [
    {
     "ename": "TypeError",
     "evalue": "unhashable type: 'list'",
     "output_type": "error",
     "traceback": [
      "\u001b[1;31m---------------------------------------------------------------------------\u001b[0m",
      "\u001b[1;31mTypeError\u001b[0m                                 Traceback (most recent call last)",
      "\u001b[1;32m<ipython-input-77-ee486cd1b6fb>\u001b[0m in \u001b[0;36m<module>\u001b[1;34m\u001b[0m\n\u001b[1;32m----> 1\u001b[1;33m \u001b[0mx\u001b[0m\u001b[1;33m=\u001b[0m\u001b[1;33m{\u001b[0m\u001b[1;36m1\u001b[0m\u001b[1;33m,\u001b[0m\u001b[1;34m'xc'\u001b[0m\u001b[1;33m,\u001b[0m\u001b[1;36m2\u001b[0m\u001b[1;33m,\u001b[0m\u001b[1;36m3\u001b[0m\u001b[1;33m,\u001b[0m\u001b[1;36m5\u001b[0m\u001b[1;33m,\u001b[0m\u001b[1;36m2\u001b[0m\u001b[1;33m,\u001b[0m\u001b[1;36m0\u001b[0m\u001b[1;33m,\u001b[0m\u001b[1;34m'abc'\u001b[0m\u001b[1;33m,\u001b[0m\u001b[1;33m[\u001b[0m\u001b[1;36m1\u001b[0m\u001b[1;33m,\u001b[0m\u001b[1;36m2\u001b[0m\u001b[1;33m]\u001b[0m\u001b[1;33m}\u001b[0m\u001b[1;33m\u001b[0m\u001b[1;33m\u001b[0m\u001b[0m\n\u001b[0m\u001b[0;32m      2\u001b[0m \u001b[0mprint\u001b[0m\u001b[1;33m(\u001b[0m\u001b[0mx\u001b[0m\u001b[1;33m)\u001b[0m\u001b[1;33m\u001b[0m\u001b[1;33m\u001b[0m\u001b[0m\n",
      "\u001b[1;31mTypeError\u001b[0m: unhashable type: 'list'"
     ]
    }
   ],
   "source": [
    "x={1,'xc',2,3,5,2,0,'abc',[1,2]} # we cant give list inside a set as value\n",
    "print(x)"
   ]
  },
  {
   "cell_type": "code",
   "execution_count": 82,
   "metadata": {},
   "outputs": [
    {
     "name": "stdout",
     "output_type": "stream",
     "text": [
      "{1, 2, 3, 4, 5, 6} [1, 2, 3, 4, 5, 6]\n"
     ]
    }
   ],
   "source": [
    "#converting the sets to lists for unique\n",
    "d=[1,1,2,3,4,5,4,5,6]\n",
    "x=set(d)\n",
    "y=list(set(d))\n",
    "print(x,y)"
   ]
  },
  {
   "cell_type": "code",
   "execution_count": 83,
   "metadata": {},
   "outputs": [
    {
     "data": {
      "text/plain": [
       "{0, 1, 2, 3, 4, 5, 6}"
      ]
     },
     "execution_count": 83,
     "metadata": {},
     "output_type": "execute_result"
    }
   ],
   "source": [
    "#union of sets\n",
    "d={1,1,2,3,4,5,4,5,6}\n",
    "x={1,2,3,5,2,0}\n",
    "d.union(x)\n"
   ]
  },
  {
   "cell_type": "code",
   "execution_count": 84,
   "metadata": {},
   "outputs": [
    {
     "data": {
      "text/plain": [
       "{1, 2, 3, 5}"
      ]
     },
     "execution_count": 84,
     "metadata": {},
     "output_type": "execute_result"
    }
   ],
   "source": [
    "#union of sets \n",
    "d={1,1,2,3,4,5,4,5,6}\n",
    "x={1,2,3,5,2,0}\n",
    "d.intersection(x)"
   ]
  },
  {
   "cell_type": "code",
   "execution_count": 87,
   "metadata": {},
   "outputs": [
    {
     "name": "stdout",
     "output_type": "stream",
     "text": [
      "{4, 6}\n"
     ]
    },
    {
     "data": {
      "text/plain": [
       "[4, 6]"
      ]
     },
     "execution_count": 87,
     "metadata": {},
     "output_type": "execute_result"
    }
   ],
   "source": [
    "#to have a list difference we use sets\n",
    "d=[1,1,2,3,4,5,4,5,6]\n",
    "x=[1,2,3,5,2,0]\n",
    "s1=set(d)\n",
    "s2=set(x)\n",
    "s3=s1-s2\n",
    "print(s3)\n",
    "list1=list(s3)\n",
    "list1\n",
    "#list can contain as a tuple as element\n",
    "#str , list, dicts are very imp for DS"
   ]
  },
  {
   "cell_type": "code",
   "execution_count": 88,
   "metadata": {},
   "outputs": [
    {
     "name": "stdout",
     "output_type": "stream",
     "text": [
      "('a', 1, [1, 2])\n"
     ]
    }
   ],
   "source": [
    "#tupels-no modification done on tuple,duplicate values, just like lists\n",
    "b=('a',1,[1,2])  #list can be used as elements in tuples\n",
    "print(b)"
   ]
  },
  {
   "cell_type": "code",
   "execution_count": 91,
   "metadata": {},
   "outputs": [],
   "source": [
    "#functions, defining a function\n",
    "def sum_num(x,y):\n",
    "    z=x+y\n",
    "    a=x-y\n",
    "    return(z,a)"
   ]
  },
  {
   "cell_type": "code",
   "execution_count": 99,
   "metadata": {},
   "outputs": [
    {
     "name": "stdout",
     "output_type": "stream",
     "text": [
      "(14, -4)\n",
      "14\n",
      "-4\n"
     ]
    }
   ],
   "source": [
    "var=sum_num(5,9)  #calling the function\n",
    "print(var)  #output is a tuple\n",
    "print(var[0])\n",
    "print(var[1])"
   ]
  },
  {
   "cell_type": "code",
   "execution_count": 104,
   "metadata": {},
   "outputs": [
    {
     "data": {
      "text/plain": [
       "14"
      ]
     },
     "execution_count": 104,
     "metadata": {},
     "output_type": "execute_result"
    }
   ],
   "source": [
    "var1,var2=sum_num(5,9)\n",
    "var1,var2\n",
    "var1\n"
   ]
  },
  {
   "cell_type": "code",
   "execution_count": null,
   "metadata": {},
   "outputs": [],
   "source": []
  }
 ],
 "metadata": {
  "kernelspec": {
   "display_name": "Python 3",
   "language": "python",
   "name": "python3"
  },
  "language_info": {
   "codemirror_mode": {
    "name": "ipython",
    "version": 3
   },
   "file_extension": ".py",
   "mimetype": "text/x-python",
   "name": "python",
   "nbconvert_exporter": "python",
   "pygments_lexer": "ipython3",
   "version": "3.7.4"
  }
 },
 "nbformat": 4,
 "nbformat_minor": 2
}
