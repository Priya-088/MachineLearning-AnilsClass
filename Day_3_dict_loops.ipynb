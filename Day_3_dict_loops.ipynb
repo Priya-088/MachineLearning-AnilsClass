{
 "cells": [
  {
   "cell_type": "code",
   "execution_count": 8,
   "metadata": {},
   "outputs": [
    {
     "data": {
      "text/plain": [
       "'priya'"
      ]
     },
     "execution_count": 8,
     "metadata": {},
     "output_type": "execute_result"
    }
   ],
   "source": [
    "#dictionary-unique elements(keys),key:value,{} braces are used, data type, un-ordered(no value for indexing)\n",
    "dict_priya={'first_name':'mora','last_name':'priya','age':23,'place':'hyd',123:'dk'}\n",
    "dict_priya['last_name'] \n",
    "#dict_priya['last_name','age'] #cant access multiple keys at a time"
   ]
  },
  {
   "cell_type": "code",
   "execution_count": 9,
   "metadata": {},
   "outputs": [
    {
     "data": {
      "text/plain": [
       "{'first_name': 'mora',\n",
       " 'last_name': 'makutam',\n",
       " 'age': 23,\n",
       " 'place': 'hyd',\n",
       " 123: 'dk'}"
      ]
     },
     "execution_count": 9,
     "metadata": {},
     "output_type": "execute_result"
    }
   ],
   "source": [
    "dict_priya['last_name']='makutam'  #replacing the key values\n",
    "dict_priya"
   ]
  },
  {
   "cell_type": "code",
   "execution_count": 10,
   "metadata": {},
   "outputs": [
    {
     "data": {
      "text/plain": [
       "'dk'"
      ]
     },
     "execution_count": 10,
     "metadata": {},
     "output_type": "execute_result"
    }
   ],
   "source": [
    "dict_priya[123]  #we can use int as key, key can be str, int,float,list,other dict"
   ]
  },
  {
   "cell_type": "code",
   "execution_count": 3,
   "metadata": {},
   "outputs": [
    {
     "name": "stdout",
     "output_type": "stream",
     "text": [
      "makutam\n"
     ]
    },
    {
     "data": {
      "text/plain": [
       "{'last_name': 'makutam', 'first_name': 'dheeraj'}"
      ]
     },
     "execution_count": 3,
     "metadata": {},
     "output_type": "execute_result"
    }
   ],
   "source": [
    "dict_priya2={'first_name':'mora','dk':{'last_name':'makutam','first_name':'dheeraj'},'age':23,'place':'hyd',123:'dk'}\n",
    "print(dict_priya2['dk']['last_name'])  #dict as a key\n",
    "dict_priya2['dk']"
   ]
  },
  {
   "cell_type": "code",
   "execution_count": 17,
   "metadata": {},
   "outputs": [
    {
     "data": {
      "text/plain": [
       "{'a': 'b', 'c': 1, 'd': 'e'}"
      ]
     },
     "execution_count": 17,
     "metadata": {},
     "output_type": "execute_result"
    }
   ],
   "source": [
    "#appending a dict, we cant append a list to dict bcz list dont have key values, we can update two dicts only\n",
    "dict_1={'a':'b','c':1}\n",
    "dict_2={'d':'e'}\n",
    "dict_1.update(dict_2)\n",
    "dict_1"
   ]
  },
  {
   "cell_type": "code",
   "execution_count": 19,
   "metadata": {},
   "outputs": [
    {
     "data": {
      "text/plain": [
       "dict_keys(['first_name', 'last_name', 'age', 'place', 123])"
      ]
     },
     "execution_count": 19,
     "metadata": {},
     "output_type": "execute_result"
    }
   ],
   "source": [
    "#to acces all the keys of dictionary\n",
    "dict_priya.keys()"
   ]
  },
  {
   "cell_type": "code",
   "execution_count": 21,
   "metadata": {},
   "outputs": [
    {
     "data": {
      "text/plain": [
       "['first_name', 'last_name', 'age', 'place', 123]"
      ]
     },
     "execution_count": 21,
     "metadata": {},
     "output_type": "execute_result"
    }
   ],
   "source": [
    "list(dict_priya.keys())  #accessing all keys in form of list"
   ]
  },
  {
   "cell_type": "code",
   "execution_count": 23,
   "metadata": {},
   "outputs": [
    {
     "data": {
      "text/plain": [
       "['mora', 'makutam', 23, 'hyd', 'dk']"
      ]
     },
     "execution_count": 23,
     "metadata": {},
     "output_type": "execute_result"
    }
   ],
   "source": [
    "list(dict_priya.values())  # accessing all values of the keys"
   ]
  },
  {
   "cell_type": "code",
   "execution_count": 30,
   "metadata": {},
   "outputs": [
    {
     "data": {
      "text/plain": [
       "{'first_name': 'mora', 'last_name': 'makutam', 123: 'dk'}"
      ]
     },
     "execution_count": 30,
     "metadata": {},
     "output_type": "execute_result"
    }
   ],
   "source": [
    "del dict_priya['age']  #Deleting a key\n",
    "dict_priya"
   ]
  },
  {
   "cell_type": "code",
   "execution_count": 32,
   "metadata": {},
   "outputs": [
    {
     "data": {
      "text/plain": [
       "{'first_name': 'dheeraj.priya', 'last_name': 'makutam', 123: 'dk'}"
      ]
     },
     "execution_count": 32,
     "metadata": {},
     "output_type": "execute_result"
    }
   ],
   "source": [
    "dict_priya['first_name']='dheeraj.priya' #updating the values to the keys\n",
    "dict_priya"
   ]
  },
  {
   "cell_type": "code",
   "execution_count": 4,
   "metadata": {},
   "outputs": [
    {
     "name": "stdout",
     "output_type": "stream",
     "text": [
      "the value of a is 3\n",
      "if block is finished\n",
      "4\n"
     ]
    }
   ],
   "source": [
    "a=3  #we can have if condition without else, but  else without if condition is not possible\n",
    "if(a==3):\n",
    "    a=a+1\n",
    "    print('the value of a is 3')\n",
    "else:\n",
    "    print('the value a is not 3')\n",
    "print('if block is finished')\n",
    "print(a)"
   ]
  },
  {
   "cell_type": "code",
   "execution_count": 38,
   "metadata": {},
   "outputs": [
    {
     "name": "stdout",
     "output_type": "stream",
     "text": [
      "b is bigger\n"
     ]
    }
   ],
   "source": [
    "#loops-if, for, while, indentation 4 spaces are used, no curly braces are used \n",
    "a=6\n",
    "b=10\n",
    "if(a>b):\n",
    "    print('a is bigger')\n",
    "else:\n",
    "    print('b is bigger')\n"
   ]
  },
  {
   "cell_type": "code",
   "execution_count": 52,
   "metadata": {},
   "outputs": [
    {
     "name": "stdout",
     "output_type": "stream",
     "text": [
      "[1]\n",
      "[1, 4]\n",
      "[1, 4, 9]\n",
      "[1, 4, 9, 16]\n"
     ]
    },
    {
     "data": {
      "text/plain": [
       "[1, 4, 9, 16]"
      ]
     },
     "execution_count": 52,
     "metadata": {},
     "output_type": "execute_result"
    }
   ],
   "source": [
    "#for loop- we must provide iterrables, list and dict are iterrables over elements, str can be iterrate over characters\n",
    "output_list=[]\n",
    "a=[1,2,3,4]\n",
    "for elem in a:\n",
    "    var_1=elem*elem\n",
    "    output_list.append(var_1)\n",
    "    print(output_list)\n",
    "output_list\n",
    "\n"
   ]
  },
  {
   "cell_type": "code",
   "execution_count": 62,
   "metadata": {},
   "outputs": [
    {
     "data": {
      "text/plain": [
       "{1: 1, 2: 4, 3: 9, 4: 16}"
      ]
     },
     "execution_count": 62,
     "metadata": {},
     "output_type": "execute_result"
    }
   ],
   "source": [
    "output_dict={}  # to print the output in a dict, for dict we use update instard of append\n",
    "a=[1,2,3,4]\n",
    "for elem in a:\n",
    "    b=elem*elem\n",
    "    output_dict.update({elem:b})\n",
    "output_dict"
   ]
  },
  {
   "cell_type": "code",
   "execution_count": null,
   "metadata": {},
   "outputs": [],
   "source": []
  }
 ],
 "metadata": {
  "kernelspec": {
   "display_name": "Python 3",
   "language": "python",
   "name": "python3"
  },
  "language_info": {
   "codemirror_mode": {
    "name": "ipython",
    "version": 3
   },
   "file_extension": ".py",
   "mimetype": "text/x-python",
   "name": "python",
   "nbconvert_exporter": "python",
   "pygments_lexer": "ipython3",
   "version": "3.7.4"
  }
 },
 "nbformat": 4,
 "nbformat_minor": 2
}
